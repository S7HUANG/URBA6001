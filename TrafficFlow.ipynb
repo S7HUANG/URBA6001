{
  "cells": [
    {
      "cell_type": "code",
      "execution_count": null,
      "metadata": {
        "id": "orYos7sanvoS"
      },
      "outputs": [],
      "source": [
        "import pandas as pd\n",
        "import numpy as np\n",
        "import matplotlib.pyplot as plt"
      ]
    },
    {
      "cell_type": "code",
      "execution_count": null,
      "metadata": {
        "colab": {
          "base_uri": "https://localhost:8080/"
        },
        "id": "G9YOEHnfpAMb",
        "outputId": "435b2bae-fa48-49e5-bb7b-fe0e49413c6a"
      },
      "outputs": [
        {
          "name": "stdout",
          "output_type": "stream",
          "text": [
            "      LA Code           Local Authority      1993  ...      2018      2019      2020\n",
            "0         NaN                       NaN       NaN  ...       NaN       NaN       NaN\n",
            "1   E09000001            City of London     200.0  ...     167.0     169.0     132.0\n",
            "2   E09000002      Barking and Dagenham     552.0  ...     798.0     809.0     679.0\n",
            "3   E09000003                    Barnet    1548.0  ...    2034.0    2089.0    1662.0\n",
            "4   E09000004                    Bexley     870.0  ...    1230.0    1275.0    1063.0\n",
            "5   E09000005                     Brent     909.0  ...    1056.0    1098.0     941.0\n",
            "6   E09000006                   Bromley    1264.0  ...    1485.0    1555.0    1264.0\n",
            "7   E09000007                    Camden     619.0  ...     479.0     478.0     389.0\n",
            "8   E09000008                   Croydon    1321.0  ...    1454.0    1507.0    1255.0\n",
            "9   E09000009                    Ealing    1265.0  ...    1411.0    1425.0    1204.0\n",
            "10  E09000010                   Enfield    1436.0  ...    2016.0    2046.0    1649.0\n",
            "11  E09000011                 Greenwich    1081.0  ...    1256.0    1289.0    1096.0\n",
            "12  E09000012                   Hackney     527.0  ...     532.0     548.0     462.0\n",
            "13  E09000013    Hammersmith and Fulham     579.0  ...     585.0     590.0     463.0\n",
            "14  E09000014                  Haringey     618.0  ...     644.0     670.0     546.0\n",
            "15  E09000015                    Harrow     592.0  ...     888.0     933.0     739.0\n",
            "16  E09000016                  Havering    1360.0  ...    1840.0    1881.0    1606.0\n",
            "17  E09000017                Hillingdon    2051.0  ...    2580.0    2662.0    2120.0\n",
            "18  E09000018                  Hounslow    1591.0  ...    1727.0    1815.0    1362.0\n",
            "19  E09000019                 Islington     485.0  ...     441.0     447.0     364.0\n",
            "20  E09000020    Kensington and Chelsea     570.0  ...     572.0     584.0     473.0\n",
            "21  E09000021      Kingston upon Thames     983.0  ...    1048.0    1081.0     871.0\n",
            "22  E09000022                   Lambeth     909.0  ...     855.0     881.0     724.0\n",
            "23  E09000023                  Lewisham     850.0  ...     941.0     987.0     810.0\n",
            "24  E09000024                    Merton     655.0  ...     699.0     724.0     582.0\n",
            "25  E09000025                    Newham     857.0  ...    1074.0    1073.0     910.0\n",
            "26  E09000026                 Redbridge     943.0  ...    1393.0    1389.0    1177.0\n",
            "27  E09000027      Richmond upon Thames     884.0  ...     878.0     913.0     728.0\n",
            "28  E09000028                 Southwark     850.0  ...     823.0     849.0     703.0\n",
            "29  E09000029                    Sutton     697.0  ...     762.0     809.0     676.0\n",
            "30  E09000030             Tower Hamlets     895.0  ...    1003.0    1015.0     852.0\n",
            "31  E09000031            Waltham Forest     709.0  ...     979.0     978.0     830.0\n",
            "32  E09000032                Wandsworth     990.0  ...     888.0     931.0     762.0\n",
            "33  E09000033               Westminster    1056.0  ...     906.0     890.0     697.0\n",
            "34        NaN                       NaN       NaN  ...       NaN       NaN       NaN\n",
            "35  E12000001                North East   16516.0  ...   21101.0   22061.0   17534.0\n",
            "36  E12000002                North West   46518.0  ...   62780.0   65145.0   52040.0\n",
            "37  E12000003  Yorkshire and the Humber   33976.0  ...   49603.0   50980.0   40845.0\n",
            "38  E12000004             East Midlands   32658.0  ...   46941.0   48071.0   38103.0\n",
            "39  E12000005             West Midlands   40543.0  ...   54443.0   55135.0   42715.0\n",
            "40  E12000006           East of England   45445.0  ...   64170.0   64662.0   51748.0\n",
            "41  E12000007                    London   30712.0  ...   35444.0   36389.0   29793.0\n",
            "42  E12000008                South East   70545.0  ...   91977.0   92804.0   71957.0\n",
            "43  E12000009                South West   38393.0  ...   56566.0   58056.0   44808.0\n",
            "44  E92000001                   England  355306.0  ...  483025.0  493302.0  389543.0\n",
            "45        NaN                       NaN       NaN  ...       NaN       NaN       NaN\n",
            "46  S92000003                  Scotland   34938.0  ...   47862.0   48347.0   37274.0\n",
            "47  W92000004                     Wales   22093.0  ...   31642.0   32112.0   24597.0\n",
            "48        NaN                       NaN       NaN  ...       NaN       NaN       NaN\n",
            "49  K03000001             Great Britain  412336.0  ...  562529.0  573762.0  451413.0\n",
            "\n",
            "[50 rows x 30 columns]\n"
          ]
        }
      ],
      "source": [
        "df= pd.read_excel('traffic-flow-borough.xls', sheet_name=2)\n",
        "print(df)"
      ]
    },
    {
      "cell_type": "code",
      "execution_count": null,
      "metadata": {
        "colab": {
          "base_uri": "https://localhost:8080/"
        },
        "id": "eSQ-CFJssn2E",
        "outputId": "43582c5a-83c7-4061-ebb4-984efbf9c1d9"
      },
      "outputs": [
        {
          "name": "stdout",
          "output_type": "stream",
          "text": [
            "      LA Code         Local Authority    1993  ...    2018    2019    2020\n",
            "1   E09000001          City of London   200.0  ...   167.0   169.0   132.0\n",
            "2   E09000002    Barking and Dagenham   552.0  ...   798.0   809.0   679.0\n",
            "3   E09000003                  Barnet  1548.0  ...  2034.0  2089.0  1662.0\n",
            "4   E09000004                  Bexley   870.0  ...  1230.0  1275.0  1063.0\n",
            "5   E09000005                   Brent   909.0  ...  1056.0  1098.0   941.0\n",
            "6   E09000006                 Bromley  1264.0  ...  1485.0  1555.0  1264.0\n",
            "7   E09000007                  Camden   619.0  ...   479.0   478.0   389.0\n",
            "8   E09000008                 Croydon  1321.0  ...  1454.0  1507.0  1255.0\n",
            "9   E09000009                  Ealing  1265.0  ...  1411.0  1425.0  1204.0\n",
            "10  E09000010                 Enfield  1436.0  ...  2016.0  2046.0  1649.0\n",
            "11  E09000011               Greenwich  1081.0  ...  1256.0  1289.0  1096.0\n",
            "12  E09000012                 Hackney   527.0  ...   532.0   548.0   462.0\n",
            "13  E09000013  Hammersmith and Fulham   579.0  ...   585.0   590.0   463.0\n",
            "14  E09000014                Haringey   618.0  ...   644.0   670.0   546.0\n",
            "15  E09000015                  Harrow   592.0  ...   888.0   933.0   739.0\n",
            "16  E09000016                Havering  1360.0  ...  1840.0  1881.0  1606.0\n",
            "17  E09000017              Hillingdon  2051.0  ...  2580.0  2662.0  2120.0\n",
            "18  E09000018                Hounslow  1591.0  ...  1727.0  1815.0  1362.0\n",
            "19  E09000019               Islington   485.0  ...   441.0   447.0   364.0\n",
            "20  E09000020  Kensington and Chelsea   570.0  ...   572.0   584.0   473.0\n",
            "21  E09000021    Kingston upon Thames   983.0  ...  1048.0  1081.0   871.0\n",
            "22  E09000022                 Lambeth   909.0  ...   855.0   881.0   724.0\n",
            "23  E09000023                Lewisham   850.0  ...   941.0   987.0   810.0\n",
            "24  E09000024                  Merton   655.0  ...   699.0   724.0   582.0\n",
            "25  E09000025                  Newham   857.0  ...  1074.0  1073.0   910.0\n",
            "26  E09000026               Redbridge   943.0  ...  1393.0  1389.0  1177.0\n",
            "27  E09000027    Richmond upon Thames   884.0  ...   878.0   913.0   728.0\n",
            "28  E09000028               Southwark   850.0  ...   823.0   849.0   703.0\n",
            "29  E09000029                  Sutton   697.0  ...   762.0   809.0   676.0\n",
            "30  E09000030           Tower Hamlets   895.0  ...  1003.0  1015.0   852.0\n",
            "31  E09000031          Waltham Forest   709.0  ...   979.0   978.0   830.0\n",
            "32  E09000032              Wandsworth   990.0  ...   888.0   931.0   762.0\n",
            "33  E09000033             Westminster  1056.0  ...   906.0   890.0   697.0\n",
            "\n",
            "[33 rows x 30 columns]\n"
          ]
        }
      ],
      "source": [
        "df1=df[:34]\n",
        "dfclean=df1.drop(index=0)\n",
        "print(dfclean)"
      ]
    },
    {
      "cell_type": "code",
      "execution_count": null,
      "metadata": {
        "colab": {
          "base_uri": "https://localhost:8080/"
        },
        "id": "dha-L8kVw17f",
        "outputId": "dba69759-6b09-4b8c-b698-ef2ca5c450c3"
      },
      "outputs": [
        {
          "name": "stdout",
          "output_type": "stream",
          "text": [
            "     Y2015   Y2016   Y2017   Y2018   Y2019   Y2020\n",
            "1    171.0   168.0   167.0   167.0   169.0   132.0\n",
            "2    739.0   770.0   776.0   798.0   809.0   679.0\n",
            "3   1910.0  1911.0  1991.0  2034.0  2089.0  1662.0\n",
            "4   1131.0  1179.0  1209.0  1230.0  1275.0  1063.0\n",
            "5    937.0   987.0  1007.0  1056.0  1098.0   941.0\n",
            "6   1386.0  1418.0  1447.0  1485.0  1555.0  1264.0\n",
            "7    468.0   470.0   477.0   479.0   478.0   389.0\n",
            "8   1314.0  1359.0  1390.0  1454.0  1507.0  1255.0\n",
            "9   1308.0  1318.0  1375.0  1411.0  1425.0  1204.0\n",
            "10  1893.0  1921.0  1958.0  2016.0  2046.0  1649.0\n",
            "11  1149.0  1161.0  1211.0  1256.0  1289.0  1096.0\n",
            "12   508.0   522.0   527.0   532.0   548.0   462.0\n",
            "13   540.0   560.0   564.0   585.0   590.0   463.0\n",
            "14   593.0   608.0   619.0   644.0   670.0   546.0\n",
            "15   801.0   828.0   856.0   888.0   933.0   739.0\n",
            "16  1662.0  1727.0  1778.0  1840.0  1881.0  1606.0\n",
            "17  2348.0  2433.0  2455.0  2580.0  2662.0  2120.0\n",
            "18  1609.0  1645.0  1660.0  1727.0  1815.0  1362.0\n",
            "19   418.0   429.0   435.0   441.0   447.0   364.0\n",
            "20   521.0   533.0   541.0   572.0   584.0   473.0\n",
            "21   967.0  1001.0  1014.0  1048.0  1081.0   871.0\n",
            "22   777.0   809.0   845.0   855.0   881.0   724.0\n",
            "23   847.0   891.0   924.0   941.0   987.0   810.0\n",
            "24   630.0   645.0   658.0   699.0   724.0   582.0\n",
            "25   961.0   989.0  1046.0  1074.0  1073.0   910.0\n",
            "26  1275.0  1312.0  1339.0  1393.0  1389.0  1177.0\n",
            "27   835.0   852.0   869.0   878.0   913.0   728.0\n",
            "28   767.0   783.0   808.0   823.0   849.0   703.0\n",
            "29   689.0   718.0   740.0   762.0   809.0   676.0\n",
            "30   904.0   941.0   975.0  1003.0  1015.0   852.0\n",
            "31   853.0   879.0   905.0   979.0   978.0   830.0\n",
            "32   813.0   819.0   868.0   888.0   931.0   762.0\n",
            "33   891.0   895.0   898.0   906.0   890.0   697.0\n"
          ]
        }
      ],
      "source": [
        "df20152020=dfclean.iloc[:,24:]\n",
        "df20152020.columns=['Y2015','Y2016','Y2017','Y2018','Y2019','Y2020']\n",
        "print(df20152020)"
      ]
    },
    {
      "cell_type": "code",
      "execution_count": null,
      "metadata": {
        "id": "REsAFJZiVaI7"
      },
      "outputs": [],
      "source": [
        "df20152020.to_csv('borough.csv')"
      ]
    },
    {
      "cell_type": "code",
      "execution_count": null,
      "metadata": {
        "colab": {
          "base_uri": "https://localhost:8080/"
        },
        "id": "JB2YvPsXOVFT",
        "outputId": "b7903ebe-dc9f-48b5-8a67-325ef0b91d27"
      },
      "outputs": [
        {
          "name": "stdout",
          "output_type": "stream",
          "text": [
            "      2020  2015-19\n",
            "1    132.0    168.4\n",
            "2    679.0    778.4\n",
            "3   1662.0   1987.0\n",
            "4   1063.0   1204.8\n",
            "5    941.0   1017.0\n",
            "6   1264.0   1458.2\n",
            "7    389.0    474.4\n",
            "8   1255.0   1404.8\n",
            "9   1204.0   1367.4\n",
            "10  1649.0   1966.8\n",
            "11  1096.0   1213.2\n",
            "12   462.0    527.4\n",
            "13   463.0    567.8\n",
            "14   546.0    626.8\n",
            "15   739.0    861.2\n",
            "16  1606.0   1777.6\n",
            "17  2120.0   2495.6\n",
            "18  1362.0   1691.2\n",
            "19   364.0    434.0\n",
            "20   473.0    550.2\n",
            "21   871.0   1022.2\n",
            "22   724.0    833.4\n",
            "23   810.0    918.0\n",
            "24   582.0    671.2\n",
            "25   910.0   1028.6\n",
            "26  1177.0   1341.6\n",
            "27   728.0    869.4\n",
            "28   703.0    806.0\n",
            "29   676.0    743.6\n",
            "30   852.0    967.6\n",
            "31   830.0    918.8\n",
            "32   762.0    863.8\n",
            "33   697.0    896.0\n"
          ]
        }
      ],
      "source": [
        "df20152020['Y1519']=df20152020[['Y2015','Y2016','Y2017','Y2018','Y2019']].mean(axis=1)\n",
        "traffic2=df20152020[['Y2020','Y1519']]\n",
        "traffic2.columns=['2020','2015-19']\n",
        "print(traffic2)"
      ]
    },
    {
      "cell_type": "code",
      "execution_count": null,
      "metadata": {
        "colab": {
          "base_uri": "https://localhost:8080/"
        },
        "id": "9fvapFJuNdEs",
        "outputId": "5f7445a9-e838-48f7-9ec7-84b22d273bc6"
      },
      "outputs": [
        {
          "name": "stdout",
          "output_type": "stream",
          "text": [
            "      2020  2015-19    change\n",
            "1    132.0    168.4  0.216152\n",
            "2    679.0    778.4  0.127698\n",
            "3   1662.0   1987.0  0.163563\n",
            "4   1063.0   1204.8  0.117696\n",
            "5    941.0   1017.0  0.074730\n",
            "6   1264.0   1458.2  0.133178\n",
            "7    389.0    474.4  0.180017\n",
            "8   1255.0   1404.8  0.106634\n",
            "9   1204.0   1367.4  0.119497\n",
            "10  1649.0   1966.8  0.161582\n",
            "11  1096.0   1213.2  0.096604\n",
            "12   462.0    527.4  0.124005\n",
            "13   463.0    567.8  0.184572\n",
            "14   546.0    626.8  0.128909\n",
            "15   739.0    861.2  0.141895\n",
            "16  1606.0   1777.6  0.096535\n",
            "17  2120.0   2495.6  0.150505\n",
            "18  1362.0   1691.2  0.194655\n",
            "19   364.0    434.0  0.161290\n",
            "20   473.0    550.2  0.140313\n",
            "21   871.0   1022.2  0.147916\n",
            "22   724.0    833.4  0.131269\n",
            "23   810.0    918.0  0.117647\n",
            "24   582.0    671.2  0.132896\n",
            "25   910.0   1028.6  0.115302\n",
            "26  1177.0   1341.6  0.122689\n",
            "27   728.0    869.4  0.162641\n",
            "28   703.0    806.0  0.127792\n",
            "29   676.0    743.6  0.090909\n",
            "30   852.0    967.6  0.119471\n",
            "31   830.0    918.8  0.096648\n",
            "32   762.0    863.8  0.117851\n",
            "33   697.0    896.0  0.222098\n"
          ]
        },
        {
          "name": "stderr",
          "output_type": "stream",
          "text": [
            "/usr/local/lib/python3.7/dist-packages/ipykernel_launcher.py:1: SettingWithCopyWarning: \n",
            "A value is trying to be set on a copy of a slice from a DataFrame.\n",
            "Try using .loc[row_indexer,col_indexer] = value instead\n",
            "\n",
            "See the caveats in the documentation: https://pandas.pydata.org/pandas-docs/stable/user_guide/indexing.html#returning-a-view-versus-a-copy\n",
            "  \"\"\"Entry point for launching an IPython kernel.\n"
          ]
        }
      ],
      "source": [
        "traffic2['change']=1-traffic2['2020']/traffic2['2015-19']\n",
        "#traffic2['changerate']= format(traffic2['change'], '.1%')\n",
        "print(traffic2)"
      ]
    },
    {
      "cell_type": "code",
      "execution_count": null,
      "metadata": {
        "id": "ZigyKjdFF_yC"
      },
      "outputs": [],
      "source": [
        "traffic2.to_csv('trafficchange.csv')"
      ]
    },
    {
      "cell_type": "code",
      "execution_count": null,
      "metadata": {
        "colab": {
          "base_uri": "https://localhost:8080/"
        },
        "id": "sbYTQmnmSZSs",
        "outputId": "eafb9a6b-d886-47bd-e8d6-a2582c47158d"
      },
      "outputs": [
        {
          "name": "stdout",
          "output_type": "stream",
          "text": [
            "              1         2         3   ...        31        32        33\n",
            "change  0.216152  0.127698  0.163563  ...  0.096648  0.117851  0.222098\n",
            "\n",
            "[1 rows x 33 columns]\n"
          ]
        }
      ],
      "source": [
        "#traffic3=traffic2['change']\n",
        "traffic2_T=traffic2.T\n",
        "traffic3=traffic2_T[2:]\n",
        "print(traffic3)"
      ]
    },
    {
      "cell_type": "code",
      "execution_count": null,
      "metadata": {
        "colab": {
          "base_uri": "https://localhost:8080/",
          "height": 669
        },
        "id": "-eUWpeNfR3sC",
        "outputId": "7ac2ac36-6d7f-4a09-ca39-344747b7a858"
      },
      "outputs": [
        {
          "data": {
            "text/plain": [
              "[Text(0, 0, '-25%'),\n",
              " Text(0, 0, '-20%'),\n",
              " Text(0, 0, '-15%'),\n",
              " Text(0, 0, '-10%'),\n",
              " Text(0, 0, '-5%'),\n",
              " Text(0, 0, '0')]"
            ]
          },
          "execution_count": 92,
          "metadata": {},
          "output_type": "execute_result"
        },
        {
          "data": {
            "image/png": "[encoded data removed]",
            "text/plain": [
              "<Figure size 1600x600 with 1 Axes>"
            ]
          },
          "metadata": {
            "needs_background": "light"
          },
          "output_type": "display_data"
        }
      ],
      "source": [
        "#plt.style.use('_mpl-gallery')\n",
        "plt.xlabel = ['City of London','Barking and Dagenham','Barnet','Bexley','Brent','Bromley','Camden','Croydon','Ealing','Enfield',\n",
        "        'Greenwich','Hackney','Hammersmith and Fulham','Haringey','Harrow','Havering','Hillingdon','Hounslow','Islington','Kensington and Chelsea',\n",
        "        'Kingston upon Thames','Lambeth','Lewisham','Merton','Newham','Redbridge','Richmond upon Thames','Southwark','Sutton','Tower Hamlets','Waltham Forest',\n",
        "        'Wandsworth','Westminster']\n",
        "plt.ylabel = ['-25%','-20%','-15%','-10%','-5%','0'] \n",
        "x = np.arange(33)\n",
        "y = (-0.216,-0.128,-0.164,-0.118,-0.075,-0.133,-0.180,-0.107,-0.119,-0.162,-0.097,-0.124,-0.185,-0.129,-0.142,-0.097,-0.151,-0.195,-0.161,\n",
        "     -0.140,-0.148,-0.131,-0.118,-0.133,-0.115,-0.123,-0.163,-0.128,-0.091,-0.119,-0.097,-0.118,-0.222)\n",
        "fig, ax = plt.subplots(figsize=(8,3),dpi=200)\n",
        "ax.set_xticks(np.arange(len(plt.xlabel)))\n",
        "ax.set_yticks(np.arange(len(plt.ylabel)))\n",
        "ax.bar(x,y, width=1,  edgecolor=\"white\", linewidth=1)\n",
        "ax.set_xticklabels(plt.xlabel,fontsize=8, minor=False)\n",
        "ax.set_yticklabels(plt.ylabel,fontsize=8, minor=False)"
      ]
    },
    {
      "cell_type": "code",
      "execution_count": null,
      "metadata": {
        "id": "Bv_ph0TbtNeO"
      },
      "outputs": [],
      "source": [
        "traffic2.to_csv('traffic2.csv')"
      ]
    }
  ],
  "metadata": {
    "colab": {
      "name": "traffic flow.ipynb",
      "provenance": []
    },
    "kernelspec": {
      "display_name": "Python 3",
      "name": "python3"
    },
    "language_info": {
      "name": "python"
    }
  },
  "nbformat": 4,
  "nbformat_minor": 0
}
