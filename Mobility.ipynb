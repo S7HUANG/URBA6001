{
  "cells": [
    {
      "cell_type": "code",
      "execution_count": null,
      "metadata": {
        "id": "2gS1Dq8XvplG"
      },
      "outputs": [],
      "source": [
        "import matplotlib.pyplot as plt"
      ]
    },
    {
      "cell_type": "code",
      "execution_count": 1,
      "metadata": {
        "colab": {
          "base_uri": "https://localhost:8080/"
        },
        "id": "dNrdCfIbd4g8",
        "outputId": "e18397fa-2b61-427f-e369-0ad30c768463"
      },
      "outputs": [
        {
          "name": "stdout",
          "output_type": "stream",
          "text": [
            "            geo_type        region  ... 2021-11-23 2021-11-24\n",
            "0     country/region       Albania  ...     146.16     143.96\n",
            "1     country/region       Albania  ...     218.64     226.52\n",
            "2     country/region     Argentina  ...      92.71      96.29\n",
            "3     country/region     Argentina  ...      86.73      92.37\n",
            "4     country/region     Australia  ...     121.05     124.84\n",
            "...              ...           ...  ...        ...        ...\n",
            "4686          county   York County  ...     212.27     255.52\n",
            "4687          county  Young County  ...     209.01     207.59\n",
            "4688          county   Yuba County  ...     163.42     181.13\n",
            "4689          county   Yuma County  ...     171.67     217.98\n",
            "4690          county   Yuma County  ...     196.31     211.85\n",
            "\n",
            "[4691 rows x 688 columns]\n"
          ]
        },
        {
          "name": "stderr",
          "output_type": "stream",
          "text": [
            "/usr/local/lib/python3.7/dist-packages/IPython/core/interactiveshell.py:2718: DtypeWarning: Columns (3,4) have mixed types.Specify dtype option on import or set low_memory=False.\n",
            "  interactivity=interactivity, compiler=compiler, result=result)\n"
          ]
        }
      ],
      "source": [
        "import pandas as pd\n",
        "import numpy as np\n",
        "df=pd.read_csv('applemobility.csv')\n",
        "print(df)"
      ]
    },
    {
      "cell_type": "code",
      "execution_count": 2,
      "metadata": {
        "colab": {
          "base_uri": "https://localhost:8080/"
        },
        "id": "lJBo2Iqr2zwz",
        "outputId": "21be157b-e07e-400d-d789-d8b201c828eb"
      },
      "outputs": [
        {
          "name": "stdout",
          "output_type": "stream",
          "text": [
            "    geo_type  region transportation_type  ... 2021-11-23 2021-11-24 London\n",
            "541     city  London             driving  ...     125.10     124.96   True\n",
            "542     city  London             transit  ...     149.68     152.75   True\n",
            "543     city  London             walking  ...     135.18     140.07   True\n",
            "\n",
            "[3 rows x 689 columns]\n"
          ]
        }
      ],
      "source": [
        "df['London']=df['region'].isin(['London'])\n",
        "data=df[df['London']==True]\n",
        "print(data)"
      ]
    },
    {
      "cell_type": "code",
      "execution_count": 3,
      "metadata": {
        "colab": {
          "base_uri": "https://localhost:8080/"
        },
        "id": "nCbSBcqKVslL",
        "outputId": "31f1ab52-00f6-4c3d-8b0e-7607ce67a828"
      },
      "outputs": [
        {
          "name": "stdout",
          "output_type": "stream",
          "text": [
            "                         541      542      543\n",
            "geo_type                city     city     city\n",
            "region                London   London   London\n",
            "transportation_type  driving  transit  walking\n",
            "alternative_name         NaN      NaN      NaN\n",
            "sub-region           England  England  England\n",
            "...                      ...      ...      ...\n",
            "2021-11-21            118.71   156.43   133.93\n",
            "2021-11-22            116.82   140.25   119.36\n",
            "2021-11-23             125.1   149.68   135.18\n",
            "2021-11-24            124.96   152.75   140.07\n",
            "London                  True     True     True\n",
            "\n",
            "[689 rows x 3 columns]\n"
          ]
        }
      ],
      "source": [
        "#data_T=pd.DataFrame(data.values.T,columns=index_row,index=index_columns)\n",
        "data_T = data.T\n",
        "print(data_T)\n",
        "data_T.to_csv('data_T.csv')"
      ]
    },
    {
      "cell_type": "code",
      "execution_count": 4,
      "metadata": {
        "id": "qjJdR0-DXuzG"
      },
      "outputs": [],
      "source": [
        "data_clean=data_T.drop(['geo_type','region','alternative_name','sub-region','country','transportation_type','London','2020-05-11','2020-05-12','2021-03-12'])"
      ]
    },
    {
      "cell_type": "code",
      "execution_count": 5,
      "metadata": {
        "colab": {
          "base_uri": "https://localhost:8080/"
        },
        "id": "SSIB9Yn4Yq58",
        "outputId": "0e031d9e-ff6d-473d-9b0c-d328376e6cd3"
      },
      "outputs": [
        {
          "name": "stdout",
          "output_type": "stream",
          "text": [
            "           date driving transit walking\n",
            "0    2020-01-13     100     100     100\n",
            "1    2020-01-14  107.65  105.14  108.89\n",
            "2    2020-01-15   111.2  107.06  116.84\n",
            "3    2020-01-16  108.29  106.08  118.82\n",
            "4    2020-01-17  115.08  115.13  132.18\n",
            "..          ...     ...     ...     ...\n",
            "674  2021-11-20  153.15  204.72  228.99\n",
            "675  2021-11-21  118.71  156.43  133.93\n",
            "676  2021-11-22  116.82  140.25  119.36\n",
            "677  2021-11-23   125.1  149.68  135.18\n",
            "678  2021-11-24  124.96  152.75  140.07\n",
            "\n",
            "[679 rows x 4 columns]\n"
          ]
        }
      ],
      "source": [
        "data2= data_clean.rename_axis('date').reset_index()\n",
        "data2.columns = ['date','driving','transit','walking']\n",
        "print(data2)"
      ]
    },
    {
      "cell_type": "code",
      "execution_count": 6,
      "metadata": {
        "id": "TDOape9fNOn0"
      },
      "outputs": [],
      "source": [
        "data2.to_csv('lodonmobility.csv')"
      ]
    },
    {
      "cell_type": "code",
      "execution_count": null,
      "metadata": {
        "id": "zBQPksSyjOpV"
      },
      "outputs": [],
      "source": [
        "data2.date = pd.to_datetime(data2.date)"
      ]
    },
    {
      "cell_type": "code",
      "execution_count": null,
      "metadata": {
        "colab": {
          "base_uri": "https://localhost:8080/"
        },
        "id": "icMZomAYjeb5",
        "outputId": "f6c856f0-4ee7-4c3a-9047-8170b522d829"
      },
      "outputs": [
        {
          "name": "stdout",
          "output_type": "stream",
          "text": [
            "          date  driving  transit  walking  ... walkingchange  year month day\n",
            "0   2020-01-13   100.00   100.00   100.00  ...             0  2020    01  13\n",
            "1   2020-01-14   107.65   105.14   108.89  ...          8.89  2020    01  14\n",
            "2   2020-01-15   111.20   107.06   116.84  ...         16.84  2020    01  15\n",
            "3   2020-01-16   108.29   106.08   118.82  ...         18.82  2020    01  16\n",
            "4   2020-01-17   115.08   115.13   132.18  ...         32.18  2020    01  17\n",
            "..         ...      ...      ...      ...  ...           ...   ...   ...  ..\n",
            "674 2021-11-20   153.15   204.72   228.99  ...        128.99  2021    11  20\n",
            "675 2021-11-21   118.71   156.43   133.93  ...         33.93  2021    11  21\n",
            "676 2021-11-22   116.82   140.25   119.36  ...         19.36  2021    11  22\n",
            "677 2021-11-23   125.10   149.68   135.18  ...         35.18  2021    11  23\n",
            "678 2021-11-24   124.96   152.75   140.07  ...         40.07  2021    11  24\n",
            "\n",
            "[679 rows x 10 columns]\n"
          ]
        }
      ],
      "source": [
        "data2[['year','month','day']] = data2.date.apply(lambda x: pd.Series(x.strftime(\"%Y,%m,%d\").split(\",\")))\n",
        "print(data2)"
      ]
    },
    {
      "cell_type": "code",
      "execution_count": null,
      "metadata": {
        "id": "C_20DsTcL5hY"
      },
      "outputs": [],
      "source": [
        "data2.to_csv('mobilityclean.csv')"
      ]
    },
    {
      "cell_type": "code",
      "execution_count": null,
      "metadata": {
        "colab": {
          "base_uri": "https://localhost:8080/"
        },
        "id": "pd3RyrLJw1G_",
        "outputId": "e0b5438a-ac17-4a7b-a66e-543369eb5864"
      },
      "outputs": [
        {
          "name": "stdout",
          "output_type": "stream",
          "text": [
            "          date  driving  transit  ...  day drivingchange transitchange\n",
            "0   2020-01-13   100.00   100.00  ...   13          0.00          0.00\n",
            "1   2020-01-14   107.65   105.14  ...   14          7.65          5.14\n",
            "2   2020-01-15   111.20   107.06  ...   15         11.20          7.06\n",
            "3   2020-01-16   108.29   106.08  ...   16          8.29          6.08\n",
            "4   2020-01-17   115.08   115.13  ...   17         15.08         15.13\n",
            "..         ...      ...      ...  ...  ...           ...           ...\n",
            "674 2021-11-20   153.15   204.72  ...   20         53.15        104.72\n",
            "675 2021-11-21   118.71   156.43  ...   21         18.71         56.43\n",
            "676 2021-11-22   116.82   140.25  ...   22         16.82         40.25\n",
            "677 2021-11-23   125.10   149.68  ...   23         25.10         49.68\n",
            "678 2021-11-24   124.96   152.75  ...   24         24.96         52.75\n",
            "\n",
            "[679 rows x 9 columns]\n"
          ]
        },
        {
          "name": "stderr",
          "output_type": "stream",
          "text": [
            "/usr/local/lib/python3.7/dist-packages/ipykernel_launcher.py:6: SettingWithCopyWarning: \n",
            "A value is trying to be set on a copy of a slice from a DataFrame.\n",
            "Try using .loc[row_indexer,col_indexer] = value instead\n",
            "\n",
            "See the caveats in the documentation: https://pandas.pydata.org/pandas-docs/stable/user_guide/indexing.html#returning-a-view-versus-a-copy\n",
            "  \n",
            "/usr/local/lib/python3.7/dist-packages/ipykernel_launcher.py:7: SettingWithCopyWarning: \n",
            "A value is trying to be set on a copy of a slice from a DataFrame.\n",
            "Try using .loc[row_indexer,col_indexer] = value instead\n",
            "\n",
            "See the caveats in the documentation: https://pandas.pydata.org/pandas-docs/stable/user_guide/indexing.html#returning-a-view-versus-a-copy\n",
            "  import sys\n"
          ]
        }
      ],
      "source": [
        "data2['driving']=pd.to_numeric(data2['driving'],errors='coerce')\n",
        "data2['transit']=pd.to_numeric(data2['transit'],errors='coerce')\n",
        "data2['walking']=pd.to_numeric(data2['walking'],errors='coerce')\n",
        "data2.dtypes\n",
        "result=data2[['date','driving','transit','walking','year','month','day']]\n",
        "result['drivingchange']=result['driving']-100\n",
        "result['transitchange']=result['transit']-100\n",
        "print(result)"
      ]
    },
    {
      "cell_type": "code",
      "execution_count": null,
      "metadata": {
        "colab": {
          "base_uri": "https://localhost:8080/"
        },
        "id": "-F0UJcA8fYRC",
        "outputId": "1f318010-4656-49b5-8399-a1d47722339f"
      },
      "outputs": [
        {
          "name": "stderr",
          "output_type": "stream",
          "text": [
            "/usr/local/lib/python3.7/dist-packages/ipykernel_launcher.py:1: SettingWithCopyWarning: \n",
            "A value is trying to be set on a copy of a slice from a DataFrame.\n",
            "Try using .loc[row_indexer,col_indexer] = value instead\n",
            "\n",
            "See the caveats in the documentation: https://pandas.pydata.org/pandas-docs/stable/user_guide/indexing.html#returning-a-view-versus-a-copy\n",
            "  \"\"\"Entry point for launching an IPython kernel.\n",
            "/usr/local/lib/python3.7/dist-packages/ipykernel_launcher.py:2: SettingWithCopyWarning: \n",
            "A value is trying to be set on a copy of a slice from a DataFrame.\n",
            "Try using .loc[row_indexer,col_indexer] = value instead\n",
            "\n",
            "See the caveats in the documentation: https://pandas.pydata.org/pandas-docs/stable/user_guide/indexing.html#returning-a-view-versus-a-copy\n",
            "  \n"
          ]
        }
      ],
      "source": [
        "result['year'] = result['year'].astype(str)\n",
        "result['month'] = result['month'].astype(str)\n",
        "result['month1'] = result['year'] + result['month']"
      ]
    },
    {
      "cell_type": "code",
      "execution_count": null,
      "metadata": {
        "colab": {
          "base_uri": "https://localhost:8080/"
        },
        "id": "a9RVI6SXfuWM",
        "outputId": "fecba805-bec7-487d-8335-c7c9a5f48b43"
      },
      "outputs": [
        {
          "name": "stdout",
          "output_type": "stream",
          "text": [
            "      Jan    Feb    Mar    Apr    May  ...    Aug    Sep    Oct    Nov  Dec\n",
            "0    0.00  21.48   6.82 -69.50 -59.57  ...  15.03  24.87  39.32  17.67  NaN\n",
            "1    7.65   3.99   3.19 -69.37 -62.02  ...  17.19  26.97  39.30  24.00  NaN\n",
            "2   11.20   1.60   7.89 -67.45 -66.30  ...  18.56  38.64  21.96  26.01  NaN\n",
            "3    8.29   5.72  11.68 -71.54 -59.99  ...  29.75  41.17  25.31  25.15  NaN\n",
            "4   15.08  10.51  12.97 -74.30 -58.16  ...  24.28  27.58  22.02  42.11  NaN\n",
            "5   22.20  10.47  22.13 -68.98 -57.07  ...  40.92  23.31  23.18  45.89  NaN\n",
            "6    1.06  15.70  25.74 -67.91 -56.44  ...  31.28  27.88  23.74  15.54  NaN\n",
            "7    5.14  23.02  -0.49 -67.40 -59.48  ...  14.21  30.94  35.90  14.03  NaN\n",
            "8   12.18  -3.21  -0.43 -66.63 -59.47  ...  21.66  28.84  47.74  19.70  NaN\n",
            "9   14.32   7.55   1.66 -70.16 -63.24  ...  24.89  45.65  19.84  26.73  NaN\n",
            "10  11.18   9.80   0.34 -71.86 -51.04  ...  25.81  51.45  17.12  27.64  NaN\n",
            "11  18.01  10.74  -5.05 -77.46 -49.59  ...  25.69  26.09  25.64  47.96  NaN\n",
            "12  24.14  15.47  -2.59 -73.07 -44.85  ...  37.69  26.65  22.45  45.12  NaN\n",
            "13  -0.58  24.92  -3.29 -65.88 -46.47  ...  35.98  28.89  26.56  14.98  NaN\n",
            "14   3.01  20.86 -26.84 -64.78 -48.06  ...  20.21  31.41  38.45  16.50  NaN\n",
            "15   5.92   5.10 -24.08 -64.91 -44.78  ...  20.06  29.59  43.35  20.67  NaN\n",
            "16   8.66  21.24 -32.82 -65.02 -41.34  ...  19.96  45.41  21.21  24.87  NaN\n",
            "17   9.46  20.38 -35.81 -69.28 -38.31  ...  22.57  51.58  19.07  26.79  NaN\n",
            "18  18.35  22.60 -34.25 -70.02 -39.72  ...  31.40  25.47  21.97  43.45  NaN\n",
            "19    NaN  23.31 -38.92 -64.48 -35.26  ...  42.83  23.39  25.31  53.15  NaN\n",
            "20    NaN  29.10 -49.89 -63.84 -39.95  ...  39.66  30.35  25.33  18.71  NaN\n",
            "21    NaN  28.60 -58.10 -62.90 -42.58  ...  21.74  34.40  48.42  16.82  NaN\n",
            "22    NaN   5.81 -52.24 -62.48 -34.53  ...  25.12  31.93  41.92  25.10  NaN\n",
            "23    NaN   6.45 -64.18 -60.66 -32.62  ...  25.24  59.75  21.27  24.96  NaN\n",
            "24    NaN   8.69 -65.88 -65.23 -32.45  ...  30.89  68.10  28.80    NaN  NaN\n",
            "25    NaN  10.88 -68.14 -67.02 -28.92  ...  33.04  30.59  31.34    NaN  NaN\n",
            "26    NaN  11.38 -67.59 -62.83 -26.01  ...  48.27  28.91  34.33    NaN  NaN\n",
            "27    NaN  23.68 -73.01 -64.62 -27.07  ...  38.00  27.87  39.12    NaN  NaN\n",
            "28    NaN  27.92 -76.71 -62.80 -33.34  ...  17.23  27.89  58.62    NaN  NaN\n",
            "29    NaN    NaN -70.57 -62.43    NaN  ...  16.63  31.07  46.88    NaN  NaN\n",
            "30    NaN    NaN -69.43    NaN    NaN  ...  23.77    NaN  17.49    NaN  NaN\n",
            "\n",
            "[31 rows x 24 columns]\n"
          ]
        }
      ],
      "source": [
        "result3 = pd.DataFrame()\n",
        "for i in months:\n",
        "    result2 = result.loc[result['month1'] == i]['drivingchange']\n",
        "    result2 = result2.reset_index()\n",
        "    result2 = result2.drop('index',axis =1)\n",
        "    result3 = pd.concat([result3,result2],axis = 1,ignore_index=True)\n",
        "result3.columns=['Jan','Feb','Mar','Apr','May','Jun','Jul','Aug','Sep','Oct','Nov','Dec','Jan','Feb','Mar','Apr','May','Jun','Jul','Aug','Sep','Oct','Nov','Dec']\n",
        "print(result3)"
      ]
    },
    {
      "cell_type": "code",
      "execution_count": null,
      "metadata": {
        "colab": {
          "base_uri": "https://localhost:8080/"
        },
        "id": "8svLzs7hkG0e",
        "outputId": "acd0c68d-0b6a-41ae-bb39-4657a0f870b4"
      },
      "outputs": [
        {
          "name": "stdout",
          "output_type": "stream",
          "text": [
            "       0      1      2      3      4   ...     19      20      21      22  23\n",
            "0    0.00  29.92   9.14 -86.34 -84.38  ...  26.80   42.74   75.71   44.91 NaN\n",
            "1    5.14  11.18   2.74 -86.35 -84.06  ...  26.75   47.76   85.80   47.62 NaN\n",
            "2    7.06   4.18   5.44 -86.64 -83.79  ...  29.47   57.11   62.96   51.04 NaN\n",
            "3    6.08   7.19   6.93 -87.49 -82.62  ...  36.40   69.35   46.10   50.75 NaN\n",
            "4   15.13  11.08   6.97 -87.17 -82.43  ...  29.80   56.77   46.93   76.54 NaN\n",
            "5   26.63  11.71  18.77 -86.35 -82.51  ...  41.17   49.63   51.46   93.25 NaN\n",
            "6    4.37  20.48  27.78 -86.64 -82.33  ...  45.25   49.51   52.66   49.57 NaN\n",
            "7    3.68  34.34   0.86 -86.82 -82.22  ...  24.36   51.21   72.35   38.11 NaN\n",
            "8    9.45   3.13  -1.95 -86.75 -81.55  ...  26.83   47.89   96.09   42.51 NaN\n",
            "9   12.85   6.62  -0.53 -87.30 -82.08  ...  39.04   65.15   55.54   50.02 NaN\n",
            "10  11.52   9.07  -5.67 -87.90 -80.05  ...  37.16   81.81   43.80   54.86 NaN\n",
            "11  20.06  11.20 -13.72 -88.79 -80.27  ...  37.76   51.62   47.89   80.71 NaN\n",
            "12  30.78  10.18 -10.05 -87.28 -79.19  ...  46.46   45.08   49.22   96.79 NaN\n",
            "13   5.11  23.91  -5.16 -86.28 -79.62  ...  54.88   43.73   51.81   47.58 NaN\n",
            "14   3.70  31.79 -32.54 -86.09 -78.43  ...  34.19   46.71   70.24   37.86 NaN\n",
            "15   5.84  16.64 -42.05 -86.38 -76.28  ...  31.23   48.80   87.33   46.58 NaN\n",
            "16  10.18  23.55 -53.67 -86.83 -76.07  ...  32.18   63.47   57.65   50.27 NaN\n",
            "17  11.72  22.11 -59.68 -87.40 -74.18  ...  36.53   80.91   45.72   55.15 NaN\n",
            "18  24.67  25.12 -61.30 -86.42 -75.33  ...  36.93   51.36   47.61   83.89 NaN\n",
            "19    NaN  24.27 -65.36 -85.22 -74.94  ...  51.35   49.20   51.16  104.72 NaN\n",
            "20    NaN  33.95 -71.99 -85.30 -75.72  ...  61.67   52.54   51.35   56.43 NaN\n",
            "21    NaN  41.61 -74.10 -85.27 -75.10  ...  34.58   58.67   76.44   40.25 NaN\n",
            "22    NaN  11.26 -75.56 -85.15 -70.52  ...  35.95   56.11   87.75   49.68 NaN\n",
            "23    NaN   7.64 -82.85 -85.43 -70.69  ...  39.52   82.95   57.45   52.75 NaN\n",
            "24    NaN   9.44 -84.57 -85.58 -71.67  ...  41.95  114.39   58.19     NaN NaN\n",
            "25    NaN  10.17 -85.51 -84.79 -70.98  ...  43.48   71.27   65.67     NaN NaN\n",
            "26    NaN  11.27 -85.95 -84.59 -69.78  ...  57.75   58.95   68.13     NaN NaN\n",
            "27    NaN  22.41 -86.40 -85.43 -68.58  ...  64.65   56.05   69.99     NaN NaN\n",
            "28    NaN  29.48 -86.70 -84.96 -68.81  ...  43.57   57.09   91.01     NaN NaN\n",
            "29    NaN    NaN -85.84 -85.16    NaN  ...  38.09   59.93  108.93     NaN NaN\n",
            "30    NaN    NaN -86.08    NaN    NaN  ...  40.56     NaN   60.99     NaN NaN\n",
            "\n",
            "[31 rows x 24 columns]\n"
          ]
        }
      ],
      "source": [
        "result5 = pd.DataFrame()\n",
        "for i in months:\n",
        "    result4 = result.loc[result['month1'] == i]['transitchange']\n",
        "    result4 = result4.reset_index()\n",
        "    result4 = result4.drop('index',axis =1)\n",
        "    result5 = pd.concat([result5,result4],axis = 1,ignore_index=True)\n",
        "print(result5)"
      ]
    },
    {
      "cell_type": "code",
      "execution_count": null,
      "metadata": {
        "colab": {
          "base_uri": "https://localhost:8080/"
        },
        "id": "ALwNTBlZs1l3",
        "outputId": "87012ca8-ecde-412d-8f22-0e37f13e65cf"
      },
      "outputs": [
        {
          "name": "stdout",
          "output_type": "stream",
          "text": [
            "    year month  driving_mean  drivingchange\n",
            "0   2020    01    110.277368      10.277368\n",
            "1   2020    02    114.612414      14.612414\n",
            "2   2020    03     73.293871     -26.706129\n",
            "3   2020    04     32.839667     -67.160333\n",
            "4   2020    05     53.840345     -46.159655\n",
            "5   2020    06     76.460333     -23.539667\n",
            "6   2020    07     98.159355      -1.840645\n",
            "7   2020    08    109.366774       9.366774\n",
            "8   2020    09    112.188333      12.188333\n",
            "9   2020    10    100.069355       0.069355\n",
            "10  2020    11     74.203000     -25.797000\n",
            "11  2020    12     75.260645     -24.739355\n",
            "12  2021    01     56.140645     -43.859355\n",
            "13  2021    02     66.054643     -33.945357\n",
            "14  2021    03     77.318333     -22.681667\n",
            "15  2021    04     94.912000      -5.088000\n",
            "16  2021    05    106.783226       6.783226\n",
            "17  2021    06    120.001000      20.001000\n",
            "18  2021    07    122.004839      22.004839\n",
            "19  2021    08    127.082581      27.082581\n",
            "20  2021    09    134.221333      34.221333\n",
            "21  2021    10    130.740645      30.740645\n",
            "22  2021    11    127.647917      27.647917\n"
          ]
        }
      ],
      "source": [
        "driving=result.groupby(['year','month']).mean()['driving'].reset_index(name='driving_mean')\n",
        "driving['drivingchange']=driving['driving_mean']-100\n",
        "print(driving)"
      ]
    },
    {
      "cell_type": "code",
      "execution_count": null,
      "metadata": {
        "colab": {
          "base_uri": "https://localhost:8080/",
          "height": 282
        },
        "id": "RQx0eft8vJmN",
        "outputId": "6adabe9f-0ad1-4d47-f857-c489d4f43830"
      },
      "outputs": [
        {
          "data": {
            "text/plain": [
              "<matplotlib.axes._subplots.AxesSubplot at 0x7fbd21cdfdd0>"
            ]
          },
          "execution_count": 214,
          "metadata": {},
          "output_type": "execute_result"
        },
        {
          "data": {
            "image/png": "[encoded data removed]",
            "text/plain": [
              "<Figure size 432x288 with 1 Axes>"
            ]
          },
          "metadata": {
            "needs_background": "light"
          },
          "output_type": "display_data"
        }
      ],
      "source": [
        "driving['drivingchange'].plot()"
      ]
    },
    {
      "cell_type": "code",
      "execution_count": null,
      "metadata": {
        "colab": {
          "base_uri": "https://localhost:8080/",
          "height": 320
        },
        "id": "bowujvKzU1I1",
        "outputId": "6ca6ece3-db76-46c2-ec82-aae7aaa4ac08"
      },
      "outputs": [
        {
          "name": "stderr",
          "output_type": "stream",
          "text": [
            "/usr/local/lib/python3.7/dist-packages/numpy/core/_asarray.py:83: VisibleDeprecationWarning: Creating an ndarray from ragged nested sequences (which is a list-or-tuple of lists-or-tuples-or ndarrays with different lengths or shapes) is deprecated. If you meant to do this, you must specify 'dtype=object' when creating the ndarray\n",
            "  return array(a, dtype, copy=False, order=order)\n"
          ]
        },
        {
          "data": {
            "image/png": "[encoded data removed]",
            "text/plain": [
              "<Figure size 432x288 with 1 Axes>"
            ]
          },
          "metadata": {
            "needs_background": "light"
          },
          "output_type": "display_data"
        }
      ],
      "source": [
        "box=result3.plot.box()"
      ]
    },
    {
      "cell_type": "code",
      "execution_count": null,
      "metadata": {
        "colab": {
          "base_uri": "https://localhost:8080/"
        },
        "id": "KwilLxX5v3ZL",
        "outputId": "5344b7c1-4c72-4ffa-cbc5-58f25c44ea1b"
      },
      "outputs": [
        {
          "name": "stdout",
          "output_type": "stream",
          "text": [
            "    year month  transit_mean  transitchange\n",
            "0   2020    01    111.261579      11.261579\n",
            "1   2020    02    117.755172      17.755172\n",
            "2   2020    03     61.980645     -38.019355\n",
            "3   2020    04     13.730000     -86.270000\n",
            "4   2020    05     22.614483     -77.385517\n",
            "5   2020    06     36.774333     -63.225667\n",
            "6   2020    07     57.334194     -42.665806\n",
            "7   2020    08     73.232258     -26.767742\n",
            "8   2020    09     82.161667     -17.838333\n",
            "9   2020    10     75.266452     -24.733548\n",
            "10  2020    11     49.636000     -50.364000\n",
            "11  2020    12     53.955161     -46.044839\n",
            "12  2021    01     34.270645     -65.729355\n",
            "13  2021    02     41.405714     -58.594286\n",
            "14  2021    03     54.194667     -45.805333\n",
            "15  2021    04     77.704333     -22.295667\n",
            "16  2021    05     96.825484      -3.174516\n",
            "17  2021    06    118.652333      18.652333\n",
            "18  2021    07    129.160645      29.160645\n",
            "19  2021    08    139.558387      39.558387\n",
            "20  2021    09    158.925333      58.925333\n",
            "21  2021    10    164.320323      64.320323\n",
            "22  2021    11    158.410000      58.410000\n"
          ]
        }
      ],
      "source": [
        "transit=result.groupby(['year','month']).mean()['transit'].reset_index(name='transit_mean')\n",
        "transit['transitchange']=transit['transit_mean']-100\n",
        "print(transit)"
      ]
    },
    {
      "cell_type": "code",
      "execution_count": null,
      "metadata": {
        "colab": {
          "base_uri": "https://localhost:8080/",
          "height": 282
        },
        "id": "thxmxyqRwGOB",
        "outputId": "87ed5c69-9ba3-4cfe-85a7-2a698ed235c8"
      },
      "outputs": [
        {
          "data": {
            "text/plain": [
              "<matplotlib.axes._subplots.AxesSubplot at 0x7fbd218c36d0>"
            ]
          },
          "execution_count": 217,
          "metadata": {},
          "output_type": "execute_result"
        },
        {
          "data": {
            "image/png": "[encoded data removed]",
            "text/plain": [
              "<Figure size 432x288 with 1 Axes>"
            ]
          },
          "metadata": {
            "needs_background": "light"
          },
          "output_type": "display_data"
        }
      ],
      "source": [
        "transit['transitchange'].plot()"
      ]
    },
    {
      "cell_type": "code",
      "execution_count": null,
      "metadata": {
        "colab": {
          "base_uri": "https://localhost:8080/",
          "height": 337
        },
        "id": "PKwrnw17khhI",
        "outputId": "a9ec5162-0490-4323-a732-f9755d88a151"
      },
      "outputs": [
        {
          "name": "stderr",
          "output_type": "stream",
          "text": [
            "/usr/local/lib/python3.7/dist-packages/numpy/core/_asarray.py:83: VisibleDeprecationWarning: Creating an ndarray from ragged nested sequences (which is a list-or-tuple of lists-or-tuples-or ndarrays with different lengths or shapes) is deprecated. If you meant to do this, you must specify 'dtype=object' when creating the ndarray\n",
            "  return array(a, dtype, copy=False, order=order)\n"
          ]
        },
        {
          "data": {
            "text/plain": [
              "<matplotlib.axes._subplots.AxesSubplot at 0x7fbd2229acd0>"
            ]
          },
          "execution_count": 201,
          "metadata": {},
          "output_type": "execute_result"
        },
        {
          "data": {
            "image/png": "[encoded data removed]",
            "text/plain": [
              "<Figure size 432x288 with 1 Axes>"
            ]
          },
          "metadata": {
            "needs_background": "light"
          },
          "output_type": "display_data"
        }
      ],
      "source": [
        "result5.plot.box()"
      ]
    }
  ],
  "metadata": {
    "colab": {
      "name": "Mobility (6).ipynb",
      "provenance": []
    },
    "kernelspec": {
      "display_name": "Python 3",
      "name": "python3"
    },
    "language_info": {
      "name": "python"
    }
  },
  "nbformat": 4,
  "nbformat_minor": 0
}
